{
 "cells": [
  {
   "cell_type": "code",
   "execution_count": 13,
   "id": "a46f024d",
   "metadata": {},
   "outputs": [
    {
     "name": "stdout",
     "output_type": "stream",
     "text": [
      "10 + 3 = 13\n",
      "10 - 3 = 7\n",
      "10 * 3 = 30\n",
      "10 / 3 = 3.3333333333333335\n",
      "10 % 3 = 1\n",
      "10 ** 3 = 1000\n",
      "10 // 3 = 3\n"
     ]
    }
   ],
   "source": [
    "a,b = 10,3\n",
    "print(a, \"+\" ,b, \"=\" ,a+b)\n",
    "print(a, \"-\" ,b, \"=\" ,a-b)\n",
    "print(a, \"*\" ,b, \"=\" ,a*b)\n",
    "print(a, \"/\" ,b, \"=\" ,a/b)\n",
    "print(a, \"%\" ,b, \"=\" ,a%b)\n",
    "print(a, \"**\" ,b, \"=\" ,a**b)\n",
    "print(a, \"//\" ,b, \"=\" ,a//b)"
   ]
  },
  {
   "cell_type": "code",
   "execution_count": 15,
   "id": "8ef53000",
   "metadata": {
    "scrolled": true
   },
   "outputs": [
    {
     "name": "stdout",
     "output_type": "stream",
     "text": [
      "6.4\n"
     ]
    }
   ],
   "source": [
    "print(2*2**2/10+4+2**3/5)"
   ]
  },
  {
   "cell_type": "code",
   "execution_count": null,
   "id": "96a053f5",
   "metadata": {},
   "outputs": [],
   "source": []
  },
  {
   "cell_type": "code",
   "execution_count": 13,
   "id": "b3f13d55",
   "metadata": {},
   "outputs": [
    {
     "name": "stdout",
     "output_type": "stream",
     "text": [
      "a= 5\n",
      "a= 7\n",
      "a= 3\n",
      "a= 0.6\n",
      "a= 0.6\n"
     ]
    }
   ],
   "source": [
    "a = 5\n",
    "print(\"a=\",a)\n",
    "a += 2\n",
    "print(\"a=\",a)\n",
    "a -= 4\n",
    "print(\"a=\",a)\n",
    "a /= 5\n",
    "print(\"a=\",a)\n",
    "a %= 2\n",
    "print(\"a=\",a)"
   ]
  },
  {
   "cell_type": "code",
   "execution_count": 19,
   "id": "3a0dee46",
   "metadata": {},
   "outputs": [
    {
     "name": "stdout",
     "output_type": "stream",
     "text": [
      "5 > 10 = False\n",
      "5 < 10 = True\n",
      "5 == 10 = False\n",
      "5 != 10 = True\n",
      "5 a>= 10 = False\n",
      "5 <= 10 = True\n"
     ]
    }
   ],
   "source": [
    "a,b = 5,10\n",
    "print(a, \">\",b,\"=\",a > b)\n",
    "print(a, \"<\",b,\"=\",a < b)\n",
    "print(a, \"==\",b,\"=\",a == b)\n",
    "print(a, \"!=\",b,\"=\",a != b)\n",
    "print(a, \"a>=\",b,\"=\",a >= b)\n",
    "print(a,\"<=\",b,\"=\",a <= b)"
   ]
  },
  {
   "cell_type": "code",
   "execution_count": 26,
   "id": "6eb2751c",
   "metadata": {},
   "outputs": [
    {
     "name": "stdout",
     "output_type": "stream",
     "text": [
      "nilai_1 and nilai_2=False\n",
      "nilai_1 and nilai_3=True\n",
      "nilai_1 and nilai_3=True\n"
     ]
    }
   ],
   "source": [
    "nilai_1=True\n",
    "nilai_2=False\n",
    "nilai_3=True\n",
    "print(\"nilai_1 and nilai_2=\"+str(nilai_1 and nilai_2))\n",
    "print(\"nilai_1 and nilai_3=\"+str(nilai_1 and nilai_3))\n",
    "print(\"nilai_1 and nilai_3=\"+str(nilai_1 and nilai_3))"
   ]
  },
  {
   "cell_type": "code",
   "execution_count": 30,
   "id": "af485c66",
   "metadata": {},
   "outputs": [
    {
     "name": "stdout",
     "output_type": "stream",
     "text": [
      "baju_murah and baju_diskon=True\n",
      "baju_murah and baju_tidak_diskon=False\n",
      "baju_tidak_murah and baju_tidak_diskon=False\n"
     ]
    }
   ],
   "source": [
    "baju_murah=True\n",
    "baju_diskon=True\n",
    "baju_tidak_murah=False\n",
    "baju_tidak_diskon=False\n",
    "print(\"baju_murah and baju_diskon=\"+str(baju_murah and baju_diskon))\n",
    "print(\"baju_murah and baju_tidak_diskon=\"+str(baju_murah and baju_tidak_diskon))\n",
    "print(\"baju_tidak_murah and baju_tidak_diskon=\"+str(baju_tidak_murah and baju_tidak_diskon))"
   ]
  },
  {
   "cell_type": "code",
   "execution_count": 40,
   "id": "7f3d95f3",
   "metadata": {},
   "outputs": [
    {
     "name": "stdout",
     "output_type": "stream",
     "text": [
      "baju murah and baju diskon = True\n",
      "baju murah dan diskon jadi tidak laku = False\n"
     ]
    }
   ],
   "source": [
    "baju_murah=True\n",
    "baju_diskon=True\n",
    "print(\"baju murah and baju diskon = \"+str(baju_murah and baju_diskon))\n",
    "print(\"baju murah dan diskon jadi tidak laku = \"+str(not baju_murah and baju_mahal))"
   ]
  },
  {
   "cell_type": "code",
   "execution_count": 47,
   "id": "9fac88d1",
   "metadata": {},
   "outputs": [
    {
     "name": "stdout",
     "output_type": "stream",
     "text": [
      "True\n",
      "False\n",
      "False\n",
      "True\n",
      "True\n",
      "False\n"
     ]
    }
   ],
   "source": [
    "a = 5\n",
    "b = 5\n",
    "list_a = [1,2,3]\n",
    "list_b = [1,2,3]\n",
    "nama_a = \"budi\"\n",
    "nama_b = \"budi\"\n",
    "\n",
    "print(a is b)\n",
    "print( a is not b)\n",
    "print( list_a is list_b)\n",
    "print( list_a == list_b)\n",
    "print(nama_a is nama_b)\n",
    "print(nama_a is not nama_b)"
   ]
  },
  {
   "cell_type": "code",
   "execution_count": 48,
   "id": "24526d53",
   "metadata": {},
   "outputs": [
    {
     "name": "stdout",
     "output_type": "stream",
     "text": [
      "True\n"
     ]
    }
   ],
   "source": [
    "matkul = \"informatika\"\n",
    "print('i' in matkul)"
   ]
  },
  {
   "cell_type": "code",
   "execution_count": 53,
   "id": "e4cc0ccf",
   "metadata": {},
   "outputs": [
    {
     "name": "stdout",
     "output_type": "stream",
     "text": [
      "00000000\n",
      "00000001\n",
      "10000000\n",
      "00110010\n"
     ]
    }
   ],
   "source": [
    "print(format(0,'08b'))\n",
    "print(format(1,'08b'))\n",
    "print(format(128,'08b'))\n",
    "print(format(50,'08b'))"
   ]
  },
  {
   "cell_type": "code",
   "execution_count": 56,
   "id": "310124a7",
   "metadata": {},
   "outputs": [
    {
     "name": "stdout",
     "output_type": "stream",
     "text": [
      "a= 1 = 00000001\n"
     ]
    }
   ],
   "source": [
    "a = 1\n",
    "b = 64\n",
    "print(\"a=\",a,\"=\",format(a,\"08b\"))"
   ]
  },
  {
   "cell_type": "code",
   "execution_count": 59,
   "id": "6425a8bc",
   "metadata": {},
   "outputs": [
    {
     "name": "stdout",
     "output_type": "stream",
     "text": [
      "h= 104 = 01101000\n",
      "e= 65 = 01000001\n",
      "l= 108 = 01101100\n",
      "l= 108 = 01101100\n",
      "o= 111 = 01101111\n"
     ]
    }
   ],
   "source": [
    "h = 104\n",
    "e = 65\n",
    "l = 108\n",
    "l = 108\n",
    "o = 111\n",
    "print(\"h=\",h,\"=\",format(h,'08b'))\n",
    "print(\"e=\",e,\"=\",format(e,'08b'))\n",
    "print(\"l=\",l,\"=\",format(l,'08b'))\n",
    "print(\"l=\",l,\"=\",format(l,'08b'))\n",
    "print(\"o=\",o,\"=\",format(o,'08b'))"
   ]
  },
  {
   "cell_type": "code",
   "execution_count": 69,
   "id": "9f877bb5",
   "metadata": {},
   "outputs": [
    {
     "name": "stdout",
     "output_type": "stream",
     "text": [
      "00000000\n",
      "1111101000000\n",
      "-1000101\n"
     ]
    }
   ],
   "source": [
    "x=100\n",
    "y=10\n",
    "z=68\n",
    "print(format(x&y&z, '08b'))\n",
    "print(format(x*y<<5>>2, \"08b\"))\n",
    "print(format(~x&~y|~z, \"08b\"))"
   ]
  }
 ],
 "metadata": {
  "kernelspec": {
   "display_name": "Python 3 (ipykernel)",
   "language": "python",
   "name": "python3"
  },
  "language_info": {
   "codemirror_mode": {
    "name": "ipython",
    "version": 3
   },
   "file_extension": ".py",
   "mimetype": "text/x-python",
   "name": "python",
   "nbconvert_exporter": "python",
   "pygments_lexer": "ipython3",
   "version": "3.9.12"
  }
 },
 "nbformat": 4,
 "nbformat_minor": 5
}
